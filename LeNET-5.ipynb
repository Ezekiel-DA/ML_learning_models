{
 "cells": [
  {
   "cell_type": "code",
   "execution_count": 1,
   "id": "69dc474b",
   "metadata": {},
   "outputs": [],
   "source": [
    "import numpy as np\n",
    "import tensorflow as tf\n",
    "import tensorflow_datasets as tfds\n",
    "from sklearn.metrics import accuracy_score\n",
    "from tensorflow.keras.models import Sequential\n",
    "from tensorflow.keras.callbacks import EarlyStopping\n",
    "from tensorflow.keras.layers import Conv2D, Dense, Dropout, MaxPool2D, AveragePooling2D, Flatten"
   ]
  },
  {
   "cell_type": "markdown",
   "id": "013ef44f",
   "metadata": {},
   "source": [
    "# Helper functions and settings"
   ]
  },
  {
   "cell_type": "code",
   "execution_count": 2,
   "id": "11b54a45",
   "metadata": {},
   "outputs": [],
   "source": [
    "def normalize_img(image, label):\n",
    "  \"\"\"Normalizes images: `uint8` -> `float32`.\"\"\"\n",
    "  return tf.cast(image, tf.float32) / 255., label\n",
    "\n",
    "patience = 50\n",
    "epochs = 1000\n",
    "\n",
    "earlystop = EarlyStopping(monitor='val_loss', min_delta=1e-3, patience=patience, verbose=1, mode='auto', restore_best_weights=True)"
   ]
  },
  {
   "cell_type": "markdown",
   "id": "f95aab83",
   "metadata": {},
   "source": [
    "# Load MNIST"
   ]
  },
  {
   "cell_type": "code",
   "execution_count": 3,
   "id": "149d1911",
   "metadata": {},
   "outputs": [
    {
     "data": {
      "text/plain": [
       "tfds.core.DatasetInfo(\n",
       "    name='mnist',\n",
       "    full_name='mnist/3.0.1',\n",
       "    description=\"\"\"\n",
       "    The MNIST database of handwritten digits.\n",
       "    \"\"\",\n",
       "    homepage='http://yann.lecun.com/exdb/mnist/',\n",
       "    data_path='C:\\\\Users\\\\nicol\\\\tensorflow_datasets\\\\mnist\\\\3.0.1',\n",
       "    download_size=11.06 MiB,\n",
       "    dataset_size=21.00 MiB,\n",
       "    features=FeaturesDict({\n",
       "        'image': Image(shape=(28, 28, 1), dtype=tf.uint8),\n",
       "        'label': ClassLabel(shape=(), dtype=tf.int64, num_classes=10),\n",
       "    }),\n",
       "    supervised_keys=('image', 'label'),\n",
       "    disable_shuffling=False,\n",
       "    splits={\n",
       "        'test': <SplitInfo num_examples=10000, num_shards=1>,\n",
       "        'train': <SplitInfo num_examples=60000, num_shards=1>,\n",
       "    },\n",
       "    citation=\"\"\"@article{lecun2010mnist,\n",
       "      title={MNIST handwritten digit database},\n",
       "      author={LeCun, Yann and Cortes, Corinna and Burges, CJ},\n",
       "      journal={ATT Labs [Online]. Available: http://yann.lecun.com/exdb/mnist},\n",
       "      volume={2},\n",
       "      year={2010}\n",
       "    }\"\"\",\n",
       ")"
      ]
     },
     "execution_count": 3,
     "metadata": {},
     "output_type": "execute_result"
    }
   ],
   "source": [
    "(train, validate, test), info = tfds.load('mnist', split=['train', 'test[:80%]', 'test[80%:]'], shuffle_files=True, with_info=True, as_supervised=True)\n",
    "info"
   ]
  },
  {
   "cell_type": "code",
   "execution_count": 4,
   "id": "61e64c0d",
   "metadata": {
    "scrolled": true
   },
   "outputs": [
    {
     "name": "stdout",
     "output_type": "stream",
     "text": [
      "Training set: 60000 examples; validation: 8000 examples; reserved for testing: 2000 examples\n"
     ]
    }
   ],
   "source": [
    "print(f\"Training set: {len(train)} examples; validation: {len(validate)} examples; reserved for testing: {len(test)} examples\")"
   ]
  },
  {
   "cell_type": "code",
   "execution_count": 5,
   "id": "619d8895",
   "metadata": {},
   "outputs": [],
   "source": [
    "train = train.map(normalize_img, num_parallel_calls=tf.data.AUTOTUNE).cache().shuffle(info.splits['train'].num_examples).batch(128).prefetch(tf.data.AUTOTUNE)\n",
    "validate = validate.map(normalize_img, num_parallel_calls=tf.data.AUTOTUNE).batch(128).cache().prefetch(tf.data.AUTOTUNE)\n",
    "test = test.map(normalize_img, num_parallel_calls=tf.data.AUTOTUNE).batch(128).cache().prefetch(tf.data.AUTOTUNE)"
   ]
  },
  {
   "cell_type": "markdown",
   "id": "0c63b2af",
   "metadata": {},
   "source": [
    "# Fashion MNIST"
   ]
  },
  {
   "cell_type": "code",
   "execution_count": 6,
   "id": "04c2a807",
   "metadata": {},
   "outputs": [
    {
     "data": {
      "text/plain": [
       "tfds.core.DatasetInfo(\n",
       "    name='mnist',\n",
       "    full_name='mnist/3.0.1',\n",
       "    description=\"\"\"\n",
       "    The MNIST database of handwritten digits.\n",
       "    \"\"\",\n",
       "    homepage='http://yann.lecun.com/exdb/mnist/',\n",
       "    data_path='C:\\\\Users\\\\nicol\\\\tensorflow_datasets\\\\mnist\\\\3.0.1',\n",
       "    download_size=11.06 MiB,\n",
       "    dataset_size=21.00 MiB,\n",
       "    features=FeaturesDict({\n",
       "        'image': Image(shape=(28, 28, 1), dtype=tf.uint8),\n",
       "        'label': ClassLabel(shape=(), dtype=tf.int64, num_classes=10),\n",
       "    }),\n",
       "    supervised_keys=('image', 'label'),\n",
       "    disable_shuffling=False,\n",
       "    splits={\n",
       "        'test': <SplitInfo num_examples=10000, num_shards=1>,\n",
       "        'train': <SplitInfo num_examples=60000, num_shards=1>,\n",
       "    },\n",
       "    citation=\"\"\"@article{lecun2010mnist,\n",
       "      title={MNIST handwritten digit database},\n",
       "      author={LeCun, Yann and Cortes, Corinna and Burges, CJ},\n",
       "      journal={ATT Labs [Online]. Available: http://yann.lecun.com/exdb/mnist},\n",
       "      volume={2},\n",
       "      year={2010}\n",
       "    }\"\"\",\n",
       ")"
      ]
     },
     "execution_count": 6,
     "metadata": {},
     "output_type": "execute_result"
    }
   ],
   "source": [
    "(train_fashion, validate_fashion, test_fashion), info_fashion = tfds.load('fashion_mnist', split=['train', 'test[:80%]', 'test[80%:]'], shuffle_files=True, with_info=True, as_supervised=True)\n",
    "info"
   ]
  },
  {
   "cell_type": "code",
   "execution_count": 7,
   "id": "756ecc9c",
   "metadata": {},
   "outputs": [
    {
     "name": "stdout",
     "output_type": "stream",
     "text": [
      "Training set: 60000 examples; validation: 8000 examples; reserved for testing: 2000 examples\n"
     ]
    }
   ],
   "source": [
    "print(f\"Training set: {len(train_fashion)} examples; validation: {len(validate_fashion)} examples; reserved for testing: {len(test_fashion)} examples\")"
   ]
  },
  {
   "cell_type": "code",
   "execution_count": 8,
   "id": "f1664cb0",
   "metadata": {},
   "outputs": [],
   "source": [
    "train_fashion = train_fashion.map(normalize_img, num_parallel_calls=tf.data.AUTOTUNE).cache().shuffle(info.splits['train'].num_examples).batch(128).prefetch(tf.data.AUTOTUNE)\n",
    "validate_fashion = validate_fashion.map(normalize_img, num_parallel_calls=tf.data.AUTOTUNE).batch(128).cache().prefetch(tf.data.AUTOTUNE)\n",
    "test_fashion = test_fashion.map(normalize_img, num_parallel_calls=tf.data.AUTOTUNE).batch(128).cache().prefetch(tf.data.AUTOTUNE)"
   ]
  },
  {
   "cell_type": "markdown",
   "id": "ac7df84f",
   "metadata": {},
   "source": [
    "# original LeNET-5"
   ]
  },
  {
   "cell_type": "code",
   "execution_count": 9,
   "id": "fa9e6c18",
   "metadata": {},
   "outputs": [],
   "source": [
    "def build_lenet5():\n",
    "    model = Sequential()\n",
    "    model.add(Conv2D(6, kernel_size=5, input_shape=(28, 28, 1), padding=\"same\", activation=\"sigmoid\"))\n",
    "    model.add(AveragePooling2D())\n",
    "    model.add(Conv2D(16, kernel_size=5, activation=\"sigmoid\"))\n",
    "    model.add(AveragePooling2D())\n",
    "    model.add(Conv2D(120, kernel_size=5, activation=\"sigmoid\"))\n",
    "    model.add(Flatten())\n",
    "    model.add(Dense(84, activation=\"tanh\"))\n",
    "    model.add(Dense(10, activation=\"softmax\"))\n",
    "\n",
    "    model.compile(optimizer=\"adam\", loss=tf.keras.losses.sparse_categorical_crossentropy, metrics=[\"accuracy\"])\n",
    "    model.summary()\n",
    "    \n",
    "    return model"
   ]
  },
  {
   "cell_type": "code",
   "execution_count": 10,
   "id": "a963710d",
   "metadata": {
    "scrolled": false
   },
   "outputs": [
    {
     "name": "stdout",
     "output_type": "stream",
     "text": [
      "Model: \"sequential\"\n",
      "_________________________________________________________________\n",
      " Layer (type)                Output Shape              Param #   \n",
      "=================================================================\n",
      " conv2d (Conv2D)             (None, 28, 28, 6)         156       \n",
      "                                                                 \n",
      " average_pooling2d (AverageP  (None, 14, 14, 6)        0         \n",
      " ooling2D)                                                       \n",
      "                                                                 \n",
      " conv2d_1 (Conv2D)           (None, 10, 10, 16)        2416      \n",
      "                                                                 \n",
      " average_pooling2d_1 (Averag  (None, 5, 5, 16)         0         \n",
      " ePooling2D)                                                     \n",
      "                                                                 \n",
      " conv2d_2 (Conv2D)           (None, 1, 1, 120)         48120     \n",
      "                                                                 \n",
      " flatten (Flatten)           (None, 120)               0         \n",
      "                                                                 \n",
      " dense (Dense)               (None, 84)                10164     \n",
      "                                                                 \n",
      " dense_1 (Dense)             (None, 10)                850       \n",
      "                                                                 \n",
      "=================================================================\n",
      "Total params: 61,706\n",
      "Trainable params: 61,706\n",
      "Non-trainable params: 0\n",
      "_________________________________________________________________\n"
     ]
    }
   ],
   "source": [
    "lenet5 = build_lenet5()"
   ]
  },
  {
   "cell_type": "code",
   "execution_count": 11,
   "id": "c57a3c95",
   "metadata": {},
   "outputs": [
    {
     "name": "stdout",
     "output_type": "stream",
     "text": [
      "Epoch 1/1000\n",
      "469/469 [==============================] - 4s 2ms/step - loss: 1.1670 - accuracy: 0.6046 - val_loss: 0.3805 - val_accuracy: 0.8834\n",
      "Epoch 2/1000\n",
      "469/469 [==============================] - 1s 2ms/step - loss: 0.3170 - accuracy: 0.9018 - val_loss: 0.2549 - val_accuracy: 0.9233\n",
      "Epoch 3/1000\n",
      "469/469 [==============================] - 1s 2ms/step - loss: 0.2277 - accuracy: 0.9280 - val_loss: 0.1892 - val_accuracy: 0.9414\n",
      "Epoch 4/1000\n",
      "469/469 [==============================] - 1s 2ms/step - loss: 0.1721 - accuracy: 0.9463 - val_loss: 0.1439 - val_accuracy: 0.9535\n",
      "Epoch 5/1000\n",
      "469/469 [==============================] - 1s 2ms/step - loss: 0.1353 - accuracy: 0.9584 - val_loss: 0.1155 - val_accuracy: 0.9635\n",
      "Epoch 6/1000\n",
      "469/469 [==============================] - 1s 2ms/step - loss: 0.1121 - accuracy: 0.9652 - val_loss: 0.0925 - val_accuracy: 0.9709\n",
      "Epoch 7/1000\n",
      "469/469 [==============================] - 1s 2ms/step - loss: 0.0956 - accuracy: 0.9694 - val_loss: 0.0770 - val_accuracy: 0.9746\n",
      "Epoch 8/1000\n",
      "469/469 [==============================] - 1s 2ms/step - loss: 0.0828 - accuracy: 0.9742 - val_loss: 0.0720 - val_accuracy: 0.9769\n",
      "Epoch 9/1000\n",
      "469/469 [==============================] - 1s 2ms/step - loss: 0.0734 - accuracy: 0.9774 - val_loss: 0.0687 - val_accuracy: 0.9778\n",
      "Epoch 10/1000\n",
      "469/469 [==============================] - 1s 2ms/step - loss: 0.0676 - accuracy: 0.9788 - val_loss: 0.0600 - val_accuracy: 0.9816\n",
      "Epoch 11/1000\n",
      "469/469 [==============================] - 1s 2ms/step - loss: 0.0613 - accuracy: 0.9808 - val_loss: 0.0564 - val_accuracy: 0.9821\n",
      "Epoch 12/1000\n",
      "469/469 [==============================] - 1s 2ms/step - loss: 0.0565 - accuracy: 0.9819 - val_loss: 0.0573 - val_accuracy: 0.9815\n",
      "Epoch 13/1000\n",
      "469/469 [==============================] - 1s 2ms/step - loss: 0.0515 - accuracy: 0.9837 - val_loss: 0.0524 - val_accuracy: 0.9839\n",
      "Epoch 14/1000\n",
      "469/469 [==============================] - 1s 2ms/step - loss: 0.0471 - accuracy: 0.9852 - val_loss: 0.0507 - val_accuracy: 0.9836\n",
      "Epoch 15/1000\n",
      "469/469 [==============================] - 1s 2ms/step - loss: 0.0443 - accuracy: 0.9863 - val_loss: 0.0512 - val_accuracy: 0.9826\n",
      "Epoch 16/1000\n",
      "469/469 [==============================] - 1s 2ms/step - loss: 0.0418 - accuracy: 0.9868 - val_loss: 0.0473 - val_accuracy: 0.9833\n",
      "Epoch 17/1000\n",
      "469/469 [==============================] - 1s 2ms/step - loss: 0.0399 - accuracy: 0.9872 - val_loss: 0.0473 - val_accuracy: 0.9839\n",
      "Epoch 18/1000\n",
      "469/469 [==============================] - 1s 2ms/step - loss: 0.0366 - accuracy: 0.9882 - val_loss: 0.0450 - val_accuracy: 0.9855\n",
      "Epoch 19/1000\n",
      "469/469 [==============================] - 1s 2ms/step - loss: 0.0350 - accuracy: 0.9891 - val_loss: 0.0438 - val_accuracy: 0.9868\n",
      "Epoch 20/1000\n",
      "469/469 [==============================] - 1s 2ms/step - loss: 0.0322 - accuracy: 0.9899 - val_loss: 0.0483 - val_accuracy: 0.9849\n",
      "Epoch 21/1000\n",
      "469/469 [==============================] - 1s 2ms/step - loss: 0.0319 - accuracy: 0.9899 - val_loss: 0.0510 - val_accuracy: 0.9840\n",
      "Epoch 22/1000\n",
      "469/469 [==============================] - 1s 2ms/step - loss: 0.0283 - accuracy: 0.9912 - val_loss: 0.0385 - val_accuracy: 0.9875\n",
      "Epoch 23/1000\n",
      "469/469 [==============================] - 1s 2ms/step - loss: 0.0276 - accuracy: 0.9910 - val_loss: 0.0419 - val_accuracy: 0.9862\n",
      "Epoch 24/1000\n",
      "469/469 [==============================] - 1s 2ms/step - loss: 0.0258 - accuracy: 0.9919 - val_loss: 0.0413 - val_accuracy: 0.9864\n",
      "Epoch 25/1000\n",
      "469/469 [==============================] - 1s 2ms/step - loss: 0.0233 - accuracy: 0.9929 - val_loss: 0.0359 - val_accuracy: 0.9885\n",
      "Epoch 26/1000\n",
      "469/469 [==============================] - 1s 2ms/step - loss: 0.0227 - accuracy: 0.9927 - val_loss: 0.0462 - val_accuracy: 0.9844\n",
      "Epoch 27/1000\n",
      "469/469 [==============================] - 1s 2ms/step - loss: 0.0219 - accuracy: 0.9930 - val_loss: 0.0448 - val_accuracy: 0.9861\n",
      "Epoch 28/1000\n",
      "469/469 [==============================] - 1s 2ms/step - loss: 0.0208 - accuracy: 0.9933 - val_loss: 0.0521 - val_accuracy: 0.9837\n",
      "Epoch 29/1000\n",
      "469/469 [==============================] - 1s 2ms/step - loss: 0.0194 - accuracy: 0.9937 - val_loss: 0.0360 - val_accuracy: 0.9871\n",
      "Epoch 30/1000\n",
      "469/469 [==============================] - 1s 2ms/step - loss: 0.0176 - accuracy: 0.9945 - val_loss: 0.0347 - val_accuracy: 0.9890\n",
      "Epoch 31/1000\n",
      "469/469 [==============================] - 1s 2ms/step - loss: 0.0169 - accuracy: 0.9944 - val_loss: 0.0478 - val_accuracy: 0.9847\n",
      "Epoch 32/1000\n",
      "469/469 [==============================] - 1s 2ms/step - loss: 0.0156 - accuracy: 0.9951 - val_loss: 0.0411 - val_accuracy: 0.9870\n",
      "Epoch 33/1000\n",
      "469/469 [==============================] - 1s 2ms/step - loss: 0.0150 - accuracy: 0.9951 - val_loss: 0.0370 - val_accuracy: 0.9890\n",
      "Epoch 34/1000\n",
      "469/469 [==============================] - 1s 2ms/step - loss: 0.0139 - accuracy: 0.9958 - val_loss: 0.0369 - val_accuracy: 0.9893\n",
      "Epoch 35/1000\n",
      "469/469 [==============================] - 1s 2ms/step - loss: 0.0137 - accuracy: 0.9956 - val_loss: 0.0560 - val_accuracy: 0.9846\n",
      "Epoch 36/1000\n",
      "469/469 [==============================] - 1s 2ms/step - loss: 0.0125 - accuracy: 0.9958 - val_loss: 0.0423 - val_accuracy: 0.9877\n",
      "Epoch 37/1000\n",
      "469/469 [==============================] - 1s 2ms/step - loss: 0.0116 - accuracy: 0.9965 - val_loss: 0.0368 - val_accuracy: 0.9893\n",
      "Epoch 38/1000\n",
      "469/469 [==============================] - 1s 2ms/step - loss: 0.0105 - accuracy: 0.9968 - val_loss: 0.0422 - val_accuracy: 0.9881\n",
      "Epoch 39/1000\n",
      "469/469 [==============================] - 1s 2ms/step - loss: 0.0106 - accuracy: 0.9964 - val_loss: 0.0395 - val_accuracy: 0.9884\n",
      "Epoch 40/1000\n",
      "469/469 [==============================] - 1s 2ms/step - loss: 0.0108 - accuracy: 0.9966 - val_loss: 0.0414 - val_accuracy: 0.9879\n",
      "Epoch 41/1000\n",
      "469/469 [==============================] - 1s 2ms/step - loss: 0.0089 - accuracy: 0.9972 - val_loss: 0.0415 - val_accuracy: 0.9889\n",
      "Epoch 42/1000\n",
      "469/469 [==============================] - 1s 2ms/step - loss: 0.0101 - accuracy: 0.9968 - val_loss: 0.0380 - val_accuracy: 0.9889\n",
      "Epoch 43/1000\n",
      "469/469 [==============================] - 1s 2ms/step - loss: 0.0076 - accuracy: 0.9976 - val_loss: 0.0492 - val_accuracy: 0.9866\n",
      "Epoch 44/1000\n",
      "469/469 [==============================] - 1s 2ms/step - loss: 0.0086 - accuracy: 0.9972 - val_loss: 0.0460 - val_accuracy: 0.9870\n",
      "Epoch 45/1000\n",
      "469/469 [==============================] - 1s 2ms/step - loss: 0.0066 - accuracy: 0.9980 - val_loss: 0.0431 - val_accuracy: 0.9884\n",
      "Epoch 46/1000\n",
      "469/469 [==============================] - 1s 2ms/step - loss: 0.0073 - accuracy: 0.9976 - val_loss: 0.0435 - val_accuracy: 0.9885\n",
      "Epoch 47/1000\n",
      "469/469 [==============================] - 1s 2ms/step - loss: 0.0080 - accuracy: 0.9973 - val_loss: 0.0483 - val_accuracy: 0.9879\n",
      "Epoch 48/1000\n",
      "469/469 [==============================] - 1s 2ms/step - loss: 0.0079 - accuracy: 0.9974 - val_loss: 0.0456 - val_accuracy: 0.9876\n",
      "Epoch 49/1000\n",
      "469/469 [==============================] - 1s 2ms/step - loss: 0.0060 - accuracy: 0.9982 - val_loss: 0.0449 - val_accuracy: 0.9872\n",
      "Epoch 50/1000\n",
      "469/469 [==============================] - 1s 2ms/step - loss: 0.0059 - accuracy: 0.9982 - val_loss: 0.0493 - val_accuracy: 0.9871\n",
      "Epoch 51/1000\n",
      "469/469 [==============================] - 1s 2ms/step - loss: 0.0060 - accuracy: 0.9981 - val_loss: 0.0430 - val_accuracy: 0.9889\n",
      "Epoch 52/1000\n",
      "469/469 [==============================] - 1s 2ms/step - loss: 0.0054 - accuracy: 0.9984 - val_loss: 0.0547 - val_accuracy: 0.9852\n",
      "Epoch 53/1000\n",
      "469/469 [==============================] - 1s 2ms/step - loss: 0.0055 - accuracy: 0.9982 - val_loss: 0.0462 - val_accuracy: 0.9887\n",
      "Epoch 54/1000\n",
      "469/469 [==============================] - 1s 2ms/step - loss: 0.0059 - accuracy: 0.9981 - val_loss: 0.0630 - val_accuracy: 0.9855\n",
      "Epoch 55/1000\n",
      "469/469 [==============================] - 1s 2ms/step - loss: 0.0059 - accuracy: 0.9979 - val_loss: 0.0413 - val_accuracy: 0.9895\n",
      "Epoch 56/1000\n",
      "469/469 [==============================] - 1s 2ms/step - loss: 0.0040 - accuracy: 0.9987 - val_loss: 0.0505 - val_accuracy: 0.9876\n",
      "Epoch 57/1000\n"
     ]
    },
    {
     "name": "stdout",
     "output_type": "stream",
     "text": [
      "469/469 [==============================] - 1s 2ms/step - loss: 0.0050 - accuracy: 0.9984 - val_loss: 0.0528 - val_accuracy: 0.9883\n",
      "Epoch 58/1000\n",
      "469/469 [==============================] - 1s 2ms/step - loss: 0.0045 - accuracy: 0.9985 - val_loss: 0.0461 - val_accuracy: 0.9883\n",
      "Epoch 59/1000\n",
      "469/469 [==============================] - 1s 2ms/step - loss: 0.0065 - accuracy: 0.9977 - val_loss: 0.0470 - val_accuracy: 0.9879\n",
      "Epoch 60/1000\n",
      "469/469 [==============================] - 1s 2ms/step - loss: 0.0033 - accuracy: 0.9990 - val_loss: 0.0533 - val_accuracy: 0.9874\n",
      "Epoch 61/1000\n",
      "469/469 [==============================] - 1s 2ms/step - loss: 0.0033 - accuracy: 0.9990 - val_loss: 0.0449 - val_accuracy: 0.9891\n",
      "Epoch 62/1000\n",
      "469/469 [==============================] - 1s 2ms/step - loss: 0.0028 - accuracy: 0.9991 - val_loss: 0.0436 - val_accuracy: 0.9889\n",
      "Epoch 63/1000\n",
      "469/469 [==============================] - 1s 2ms/step - loss: 0.0036 - accuracy: 0.9989 - val_loss: 0.0521 - val_accuracy: 0.9884\n",
      "Epoch 64/1000\n",
      "469/469 [==============================] - 1s 2ms/step - loss: 0.0050 - accuracy: 0.9982 - val_loss: 0.0509 - val_accuracy: 0.9884\n",
      "Epoch 65/1000\n",
      "469/469 [==============================] - 1s 2ms/step - loss: 0.0036 - accuracy: 0.9987 - val_loss: 0.0510 - val_accuracy: 0.9886\n",
      "Epoch 66/1000\n",
      "469/469 [==============================] - 1s 2ms/step - loss: 0.0025 - accuracy: 0.9991 - val_loss: 0.0570 - val_accuracy: 0.9869\n",
      "Epoch 67/1000\n",
      "469/469 [==============================] - 1s 2ms/step - loss: 0.0037 - accuracy: 0.9987 - val_loss: 0.0458 - val_accuracy: 0.9886\n",
      "Epoch 68/1000\n",
      "469/469 [==============================] - 1s 2ms/step - loss: 0.0021 - accuracy: 0.9994 - val_loss: 0.0526 - val_accuracy: 0.9881\n",
      "Epoch 69/1000\n",
      "469/469 [==============================] - 1s 2ms/step - loss: 0.0040 - accuracy: 0.9986 - val_loss: 0.0683 - val_accuracy: 0.9846\n",
      "Epoch 70/1000\n",
      "469/469 [==============================] - 1s 2ms/step - loss: 0.0043 - accuracy: 0.9984 - val_loss: 0.0503 - val_accuracy: 0.9880\n",
      "Epoch 71/1000\n",
      "469/469 [==============================] - 1s 2ms/step - loss: 0.0015 - accuracy: 0.9995 - val_loss: 0.0525 - val_accuracy: 0.9894\n",
      "Epoch 72/1000\n",
      "469/469 [==============================] - 1s 2ms/step - loss: 0.0019 - accuracy: 0.9995 - val_loss: 0.0457 - val_accuracy: 0.9886\n",
      "Epoch 73/1000\n",
      "469/469 [==============================] - 1s 2ms/step - loss: 0.0015 - accuracy: 0.9996 - val_loss: 0.0513 - val_accuracy: 0.9894\n",
      "Epoch 74/1000\n",
      "469/469 [==============================] - 1s 2ms/step - loss: 0.0048 - accuracy: 0.9984 - val_loss: 0.0474 - val_accuracy: 0.9885\n",
      "Epoch 75/1000\n",
      "469/469 [==============================] - 1s 2ms/step - loss: 0.0017 - accuracy: 0.9995 - val_loss: 0.0563 - val_accuracy: 0.9877\n",
      "Epoch 76/1000\n",
      "469/469 [==============================] - 1s 2ms/step - loss: 0.0020 - accuracy: 0.9994 - val_loss: 0.0485 - val_accuracy: 0.9889\n",
      "Epoch 77/1000\n",
      "469/469 [==============================] - 1s 2ms/step - loss: 0.0026 - accuracy: 0.9992 - val_loss: 0.0468 - val_accuracy: 0.9898\n",
      "Epoch 78/1000\n",
      "469/469 [==============================] - 1s 2ms/step - loss: 0.0039 - accuracy: 0.9985 - val_loss: 0.0615 - val_accuracy: 0.9883\n",
      "Epoch 79/1000\n",
      "469/469 [==============================] - 1s 2ms/step - loss: 0.0024 - accuracy: 0.9992 - val_loss: 0.0591 - val_accuracy: 0.9887\n",
      "Epoch 80/1000\n",
      "456/469 [============================>.] - ETA: 0s - loss: 8.2979e-04 - accuracy: 0.9998Restoring model weights from the end of the best epoch: 30.\n",
      "469/469 [==============================] - 1s 2ms/step - loss: 8.1918e-04 - accuracy: 0.9998 - val_loss: 0.0540 - val_accuracy: 0.9893\n",
      "Epoch 80: early stopping\n"
     ]
    },
    {
     "data": {
      "text/plain": [
       "<keras.callbacks.History at 0x2517f6aab50>"
      ]
     },
     "execution_count": 11,
     "metadata": {},
     "output_type": "execute_result"
    }
   ],
   "source": [
    "lenet5.fit(train, epochs=epochs, validation_data=validate, callbacks=[earlystop])"
   ]
  },
  {
   "cell_type": "code",
   "execution_count": 12,
   "id": "a2e86947",
   "metadata": {},
   "outputs": [
    {
     "name": "stdout",
     "output_type": "stream",
     "text": [
      "Final accuracy score on test data: 0.9875\n"
     ]
    }
   ],
   "source": [
    "print(f\"Final accuracy score on test data: {accuracy_score([y for x, y in test.unbatch()], np.argmax(lenet5.predict(test), axis=1))}\")"
   ]
  },
  {
   "cell_type": "code",
   "execution_count": 13,
   "id": "078f1589",
   "metadata": {},
   "outputs": [
    {
     "name": "stdout",
     "output_type": "stream",
     "text": [
      "Epoch 1/1000\n",
      "469/469 [==============================] - 1s 2ms/step - loss: 0.6816 - accuracy: 0.7662 - val_loss: 0.5353 - val_accuracy: 0.8018\n",
      "Epoch 2/1000\n",
      "469/469 [==============================] - 1s 2ms/step - loss: 0.4508 - accuracy: 0.8316 - val_loss: 0.4510 - val_accuracy: 0.8382\n",
      "Epoch 3/1000\n",
      "469/469 [==============================] - 1s 2ms/step - loss: 0.4072 - accuracy: 0.8503 - val_loss: 0.4249 - val_accuracy: 0.8479\n",
      "Epoch 4/1000\n",
      "469/469 [==============================] - 1s 2ms/step - loss: 0.3807 - accuracy: 0.8607 - val_loss: 0.4046 - val_accuracy: 0.8568\n",
      "Epoch 5/1000\n",
      "469/469 [==============================] - 1s 2ms/step - loss: 0.3629 - accuracy: 0.8651 - val_loss: 0.3860 - val_accuracy: 0.8649\n",
      "Epoch 6/1000\n",
      "469/469 [==============================] - 1s 2ms/step - loss: 0.3503 - accuracy: 0.8706 - val_loss: 0.3796 - val_accuracy: 0.8646\n",
      "Epoch 7/1000\n",
      "469/469 [==============================] - 1s 2ms/step - loss: 0.3386 - accuracy: 0.8749 - val_loss: 0.3962 - val_accuracy: 0.8531\n",
      "Epoch 8/1000\n",
      "469/469 [==============================] - 1s 2ms/step - loss: 0.3302 - accuracy: 0.8768 - val_loss: 0.3685 - val_accuracy: 0.8700\n",
      "Epoch 9/1000\n",
      "469/469 [==============================] - 1s 2ms/step - loss: 0.3185 - accuracy: 0.8806 - val_loss: 0.3517 - val_accuracy: 0.8756\n",
      "Epoch 10/1000\n",
      "469/469 [==============================] - 1s 2ms/step - loss: 0.3152 - accuracy: 0.8827 - val_loss: 0.3510 - val_accuracy: 0.8771\n",
      "Epoch 11/1000\n",
      "469/469 [==============================] - 1s 2ms/step - loss: 0.3061 - accuracy: 0.8865 - val_loss: 0.3502 - val_accuracy: 0.8741\n",
      "Epoch 12/1000\n",
      "469/469 [==============================] - 1s 2ms/step - loss: 0.2980 - accuracy: 0.8895 - val_loss: 0.3520 - val_accuracy: 0.8737\n",
      "Epoch 13/1000\n",
      "469/469 [==============================] - 1s 2ms/step - loss: 0.2950 - accuracy: 0.8900 - val_loss: 0.3554 - val_accuracy: 0.8752\n",
      "Epoch 14/1000\n",
      "469/469 [==============================] - 1s 2ms/step - loss: 0.2891 - accuracy: 0.8926 - val_loss: 0.3443 - val_accuracy: 0.8741\n",
      "Epoch 15/1000\n",
      "469/469 [==============================] - 1s 2ms/step - loss: 0.2848 - accuracy: 0.8938 - val_loss: 0.3339 - val_accuracy: 0.8810\n",
      "Epoch 16/1000\n",
      "469/469 [==============================] - 1s 2ms/step - loss: 0.2791 - accuracy: 0.8962 - val_loss: 0.3482 - val_accuracy: 0.8712\n",
      "Epoch 17/1000\n",
      "469/469 [==============================] - 1s 2ms/step - loss: 0.2761 - accuracy: 0.8976 - val_loss: 0.3225 - val_accuracy: 0.8849\n",
      "Epoch 18/1000\n",
      "469/469 [==============================] - 1s 2ms/step - loss: 0.2721 - accuracy: 0.8981 - val_loss: 0.3284 - val_accuracy: 0.8831\n",
      "Epoch 19/1000\n",
      "469/469 [==============================] - 1s 2ms/step - loss: 0.2697 - accuracy: 0.8993 - val_loss: 0.3295 - val_accuracy: 0.8786\n",
      "Epoch 20/1000\n",
      "469/469 [==============================] - 1s 2ms/step - loss: 0.2631 - accuracy: 0.9020 - val_loss: 0.3363 - val_accuracy: 0.8825\n",
      "Epoch 21/1000\n",
      "469/469 [==============================] - 1s 2ms/step - loss: 0.2597 - accuracy: 0.9027 - val_loss: 0.3292 - val_accuracy: 0.8851\n",
      "Epoch 22/1000\n",
      "469/469 [==============================] - 1s 2ms/step - loss: 0.2552 - accuracy: 0.9049 - val_loss: 0.3376 - val_accuracy: 0.8817\n",
      "Epoch 23/1000\n",
      "469/469 [==============================] - 1s 2ms/step - loss: 0.2545 - accuracy: 0.9042 - val_loss: 0.3229 - val_accuracy: 0.8896\n",
      "Epoch 24/1000\n",
      "469/469 [==============================] - 1s 2ms/step - loss: 0.2496 - accuracy: 0.9068 - val_loss: 0.3156 - val_accuracy: 0.8890\n",
      "Epoch 25/1000\n",
      "469/469 [==============================] - 1s 2ms/step - loss: 0.2482 - accuracy: 0.9062 - val_loss: 0.3183 - val_accuracy: 0.8860\n",
      "Epoch 26/1000\n",
      "469/469 [==============================] - 1s 2ms/step - loss: 0.2437 - accuracy: 0.9092 - val_loss: 0.3070 - val_accuracy: 0.8915\n",
      "Epoch 27/1000\n",
      "469/469 [==============================] - 1s 2ms/step - loss: 0.2398 - accuracy: 0.9107 - val_loss: 0.3146 - val_accuracy: 0.8882\n",
      "Epoch 28/1000\n",
      "469/469 [==============================] - 1s 2ms/step - loss: 0.2384 - accuracy: 0.9107 - val_loss: 0.3206 - val_accuracy: 0.8865\n",
      "Epoch 29/1000\n",
      "469/469 [==============================] - 1s 2ms/step - loss: 0.2355 - accuracy: 0.9121 - val_loss: 0.2998 - val_accuracy: 0.8967\n",
      "Epoch 30/1000\n",
      "469/469 [==============================] - 1s 2ms/step - loss: 0.2311 - accuracy: 0.9113 - val_loss: 0.3177 - val_accuracy: 0.8914\n",
      "Epoch 31/1000\n",
      "469/469 [==============================] - 1s 2ms/step - loss: 0.2304 - accuracy: 0.9137 - val_loss: 0.3097 - val_accuracy: 0.8928\n",
      "Epoch 32/1000\n",
      "469/469 [==============================] - 1s 2ms/step - loss: 0.2266 - accuracy: 0.9151 - val_loss: 0.3012 - val_accuracy: 0.8940\n",
      "Epoch 33/1000\n",
      "469/469 [==============================] - 1s 2ms/step - loss: 0.2257 - accuracy: 0.9142 - val_loss: 0.3096 - val_accuracy: 0.8932\n",
      "Epoch 34/1000\n",
      "469/469 [==============================] - 1s 2ms/step - loss: 0.2208 - accuracy: 0.9162 - val_loss: 0.3136 - val_accuracy: 0.8938\n",
      "Epoch 35/1000\n",
      "469/469 [==============================] - 1s 2ms/step - loss: 0.2222 - accuracy: 0.9164 - val_loss: 0.3055 - val_accuracy: 0.8934\n",
      "Epoch 36/1000\n",
      "469/469 [==============================] - 1s 2ms/step - loss: 0.2155 - accuracy: 0.9193 - val_loss: 0.3014 - val_accuracy: 0.8966\n",
      "Epoch 37/1000\n",
      "469/469 [==============================] - 1s 2ms/step - loss: 0.2152 - accuracy: 0.9182 - val_loss: 0.3041 - val_accuracy: 0.8976\n",
      "Epoch 38/1000\n",
      "469/469 [==============================] - 1s 2ms/step - loss: 0.2123 - accuracy: 0.9201 - val_loss: 0.2997 - val_accuracy: 0.8964\n",
      "Epoch 39/1000\n",
      "469/469 [==============================] - 1s 2ms/step - loss: 0.2084 - accuracy: 0.9219 - val_loss: 0.3057 - val_accuracy: 0.8942\n",
      "Epoch 40/1000\n",
      "469/469 [==============================] - 1s 2ms/step - loss: 0.2086 - accuracy: 0.9212 - val_loss: 0.2915 - val_accuracy: 0.9004\n",
      "Epoch 41/1000\n",
      "469/469 [==============================] - 1s 2ms/step - loss: 0.2057 - accuracy: 0.9214 - val_loss: 0.2955 - val_accuracy: 0.8985\n",
      "Epoch 42/1000\n",
      "469/469 [==============================] - 1s 2ms/step - loss: 0.2039 - accuracy: 0.9228 - val_loss: 0.2953 - val_accuracy: 0.9004\n",
      "Epoch 43/1000\n",
      "469/469 [==============================] - 1s 2ms/step - loss: 0.1999 - accuracy: 0.9245 - val_loss: 0.3064 - val_accuracy: 0.8969\n",
      "Epoch 44/1000\n",
      "469/469 [==============================] - 1s 2ms/step - loss: 0.1994 - accuracy: 0.9246 - val_loss: 0.3091 - val_accuracy: 0.8938\n",
      "Epoch 45/1000\n",
      "469/469 [==============================] - 1s 2ms/step - loss: 0.1982 - accuracy: 0.9245 - val_loss: 0.3047 - val_accuracy: 0.8954\n",
      "Epoch 46/1000\n",
      "469/469 [==============================] - 1s 2ms/step - loss: 0.1947 - accuracy: 0.9262 - val_loss: 0.3298 - val_accuracy: 0.8929\n",
      "Epoch 47/1000\n",
      "469/469 [==============================] - 1s 2ms/step - loss: 0.1922 - accuracy: 0.9276 - val_loss: 0.2958 - val_accuracy: 0.9024\n",
      "Epoch 48/1000\n",
      "469/469 [==============================] - 1s 2ms/step - loss: 0.1909 - accuracy: 0.9278 - val_loss: 0.3202 - val_accuracy: 0.8894\n",
      "Epoch 49/1000\n",
      "469/469 [==============================] - 1s 2ms/step - loss: 0.1892 - accuracy: 0.9294 - val_loss: 0.3000 - val_accuracy: 0.9006\n",
      "Epoch 50/1000\n",
      "469/469 [==============================] - 1s 2ms/step - loss: 0.1860 - accuracy: 0.9299 - val_loss: 0.3023 - val_accuracy: 0.8999\n",
      "Epoch 51/1000\n",
      "469/469 [==============================] - 1s 2ms/step - loss: 0.1841 - accuracy: 0.9306 - val_loss: 0.3011 - val_accuracy: 0.9011\n",
      "Epoch 52/1000\n",
      "469/469 [==============================] - 1s 2ms/step - loss: 0.1817 - accuracy: 0.9316 - val_loss: 0.2995 - val_accuracy: 0.8994\n",
      "Epoch 53/1000\n",
      "469/469 [==============================] - 1s 2ms/step - loss: 0.1824 - accuracy: 0.9304 - val_loss: 0.3133 - val_accuracy: 0.8963\n",
      "Epoch 54/1000\n",
      "469/469 [==============================] - 1s 2ms/step - loss: 0.1790 - accuracy: 0.9324 - val_loss: 0.3043 - val_accuracy: 0.8954\n",
      "Epoch 55/1000\n",
      "469/469 [==============================] - 1s 2ms/step - loss: 0.1792 - accuracy: 0.9323 - val_loss: 0.3275 - val_accuracy: 0.8894\n",
      "Epoch 56/1000\n",
      "469/469 [==============================] - 1s 2ms/step - loss: 0.1747 - accuracy: 0.9335 - val_loss: 0.3104 - val_accuracy: 0.8930\n",
      "Epoch 57/1000\n"
     ]
    },
    {
     "name": "stdout",
     "output_type": "stream",
     "text": [
      "469/469 [==============================] - 1s 2ms/step - loss: 0.1755 - accuracy: 0.9334 - val_loss: 0.3079 - val_accuracy: 0.8994\n",
      "Epoch 58/1000\n",
      "469/469 [==============================] - 1s 2ms/step - loss: 0.1715 - accuracy: 0.9357 - val_loss: 0.3093 - val_accuracy: 0.8997\n",
      "Epoch 59/1000\n",
      "469/469 [==============================] - 1s 2ms/step - loss: 0.1692 - accuracy: 0.9358 - val_loss: 0.3124 - val_accuracy: 0.9015\n",
      "Epoch 60/1000\n",
      "469/469 [==============================] - 1s 2ms/step - loss: 0.1671 - accuracy: 0.9362 - val_loss: 0.3084 - val_accuracy: 0.8960\n",
      "Epoch 61/1000\n",
      "469/469 [==============================] - 1s 2ms/step - loss: 0.1672 - accuracy: 0.9364 - val_loss: 0.3113 - val_accuracy: 0.8996\n",
      "Epoch 62/1000\n",
      "469/469 [==============================] - 1s 2ms/step - loss: 0.1639 - accuracy: 0.9385 - val_loss: 0.3082 - val_accuracy: 0.8999\n",
      "Epoch 63/1000\n",
      "469/469 [==============================] - 1s 2ms/step - loss: 0.1649 - accuracy: 0.9369 - val_loss: 0.3273 - val_accuracy: 0.8942\n",
      "Epoch 64/1000\n",
      "469/469 [==============================] - 1s 2ms/step - loss: 0.1600 - accuracy: 0.9388 - val_loss: 0.3047 - val_accuracy: 0.9034\n",
      "Epoch 65/1000\n",
      "469/469 [==============================] - 1s 2ms/step - loss: 0.1592 - accuracy: 0.9404 - val_loss: 0.3062 - val_accuracy: 0.9006\n",
      "Epoch 66/1000\n",
      "469/469 [==============================] - 1s 2ms/step - loss: 0.1569 - accuracy: 0.9407 - val_loss: 0.3121 - val_accuracy: 0.9001\n",
      "Epoch 67/1000\n",
      "469/469 [==============================] - 1s 2ms/step - loss: 0.1569 - accuracy: 0.9405 - val_loss: 0.3183 - val_accuracy: 0.8963\n",
      "Epoch 68/1000\n",
      "469/469 [==============================] - 1s 2ms/step - loss: 0.1566 - accuracy: 0.9404 - val_loss: 0.3135 - val_accuracy: 0.8996\n",
      "Epoch 69/1000\n",
      "469/469 [==============================] - 1s 2ms/step - loss: 0.1530 - accuracy: 0.9419 - val_loss: 0.3163 - val_accuracy: 0.9001\n",
      "Epoch 70/1000\n",
      "469/469 [==============================] - 1s 2ms/step - loss: 0.1510 - accuracy: 0.9434 - val_loss: 0.3210 - val_accuracy: 0.8949\n",
      "Epoch 71/1000\n",
      "469/469 [==============================] - 1s 2ms/step - loss: 0.1493 - accuracy: 0.9433 - val_loss: 0.3166 - val_accuracy: 0.9020\n",
      "Epoch 72/1000\n",
      "469/469 [==============================] - 1s 2ms/step - loss: 0.1492 - accuracy: 0.9437 - val_loss: 0.3168 - val_accuracy: 0.8992\n",
      "Epoch 73/1000\n",
      "469/469 [==============================] - 1s 2ms/step - loss: 0.1466 - accuracy: 0.9442 - val_loss: 0.3171 - val_accuracy: 0.9014\n",
      "Epoch 74/1000\n",
      "469/469 [==============================] - 1s 2ms/step - loss: 0.1434 - accuracy: 0.9458 - val_loss: 0.3271 - val_accuracy: 0.9015\n",
      "Epoch 75/1000\n",
      "469/469 [==============================] - 1s 2ms/step - loss: 0.1414 - accuracy: 0.9471 - val_loss: 0.3278 - val_accuracy: 0.8982\n",
      "Epoch 76/1000\n",
      "469/469 [==============================] - 1s 2ms/step - loss: 0.1426 - accuracy: 0.9456 - val_loss: 0.3156 - val_accuracy: 0.9018\n",
      "Epoch 77/1000\n",
      "469/469 [==============================] - 1s 2ms/step - loss: 0.1381 - accuracy: 0.9475 - val_loss: 0.3112 - val_accuracy: 0.9059\n",
      "Epoch 78/1000\n",
      "469/469 [==============================] - 1s 2ms/step - loss: 0.1372 - accuracy: 0.9482 - val_loss: 0.3214 - val_accuracy: 0.9011\n",
      "Epoch 79/1000\n",
      "469/469 [==============================] - 1s 2ms/step - loss: 0.1374 - accuracy: 0.9482 - val_loss: 0.3433 - val_accuracy: 0.8949\n",
      "Epoch 80/1000\n",
      "469/469 [==============================] - 1s 2ms/step - loss: 0.1343 - accuracy: 0.9486 - val_loss: 0.3291 - val_accuracy: 0.8989\n",
      "Epoch 81/1000\n",
      "469/469 [==============================] - 1s 2ms/step - loss: 0.1327 - accuracy: 0.9497 - val_loss: 0.3373 - val_accuracy: 0.8969\n",
      "Epoch 82/1000\n",
      "469/469 [==============================] - 1s 2ms/step - loss: 0.1318 - accuracy: 0.9502 - val_loss: 0.3423 - val_accuracy: 0.8981\n",
      "Epoch 83/1000\n",
      "469/469 [==============================] - 1s 2ms/step - loss: 0.1297 - accuracy: 0.9510 - val_loss: 0.3295 - val_accuracy: 0.9009\n",
      "Epoch 84/1000\n",
      "469/469 [==============================] - 1s 2ms/step - loss: 0.1291 - accuracy: 0.9517 - val_loss: 0.3603 - val_accuracy: 0.8967\n",
      "Epoch 85/1000\n",
      "469/469 [==============================] - 1s 2ms/step - loss: 0.1267 - accuracy: 0.9520 - val_loss: 0.3432 - val_accuracy: 0.8969\n",
      "Epoch 86/1000\n",
      "469/469 [==============================] - 1s 2ms/step - loss: 0.1268 - accuracy: 0.9522 - val_loss: 0.3488 - val_accuracy: 0.8930\n",
      "Epoch 87/1000\n",
      "469/469 [==============================] - 1s 2ms/step - loss: 0.1239 - accuracy: 0.9536 - val_loss: 0.3516 - val_accuracy: 0.8925\n",
      "Epoch 88/1000\n",
      "469/469 [==============================] - 1s 2ms/step - loss: 0.1225 - accuracy: 0.9541 - val_loss: 0.3411 - val_accuracy: 0.8994\n",
      "Epoch 89/1000\n",
      "469/469 [==============================] - 1s 2ms/step - loss: 0.1229 - accuracy: 0.9542 - val_loss: 0.3551 - val_accuracy: 0.8898\n",
      "Epoch 90/1000\n",
      "450/469 [===========================>..] - ETA: 0s - loss: 0.1192 - accuracy: 0.9552Restoring model weights from the end of the best epoch: 40.\n",
      "469/469 [==============================] - 1s 2ms/step - loss: 0.1191 - accuracy: 0.9553 - val_loss: 0.3438 - val_accuracy: 0.9006\n",
      "Epoch 90: early stopping\n"
     ]
    },
    {
     "data": {
      "text/plain": [
       "<keras.callbacks.History at 0x251249bf160>"
      ]
     },
     "execution_count": 13,
     "metadata": {},
     "output_type": "execute_result"
    }
   ],
   "source": [
    "lenet5.fit(train_fashion, epochs=epochs, validation_data=validate_fashion, callbacks=[earlystop])"
   ]
  },
  {
   "cell_type": "code",
   "execution_count": 14,
   "id": "5aaed768",
   "metadata": {},
   "outputs": [
    {
     "name": "stdout",
     "output_type": "stream",
     "text": [
      "Final accuracy score on Fashion data: 0.8985\n"
     ]
    }
   ],
   "source": [
    "print(f\"Final accuracy score on Fashion data: {accuracy_score([y for x, y in test_fashion.unbatch()], np.argmax(lenet5.predict(test_fashion), axis=1))}\")"
   ]
  },
  {
   "cell_type": "markdown",
   "id": "249cb5db",
   "metadata": {},
   "source": [
    "# Simple model improvements\n",
    "\n",
    "* Replace sigmoid activation with relu\n",
    "* Replace AvgPooling with MaxPooling\n",
    "\n",
    "Doesn't seem to make much of a difference? Maybe a minimal one on Fashion MNIST?"
   ]
  },
  {
   "cell_type": "code",
   "execution_count": 15,
   "id": "8e91f346",
   "metadata": {},
   "outputs": [],
   "source": [
    "def build_tweaked_lenet5():\n",
    "    model = Sequential()\n",
    "    model.add(Conv2D(6, kernel_size=5, input_shape=(28, 28, 1), padding=\"same\", activation=\"relu\"))\n",
    "    model.add(MaxPool2D())\n",
    "    model.add(Conv2D(16, kernel_size=5, activation=\"relu\"))\n",
    "    model.add(MaxPool2D())\n",
    "    model.add(Conv2D(120, kernel_size=5, activation=\"relu\"))\n",
    "    model.add(Flatten())\n",
    "    model.add(Dense(84, activation=\"relu\"))\n",
    "    model.add(Dense(10, activation=\"softmax\"))\n",
    "\n",
    "    model.compile(optimizer=\"adam\", loss=tf.keras.losses.sparse_categorical_crossentropy, metrics=[\"accuracy\"])\n",
    "    model.summary()\n",
    "    \n",
    "    return model"
   ]
  },
  {
   "cell_type": "code",
   "execution_count": 16,
   "id": "4559c9b6",
   "metadata": {},
   "outputs": [
    {
     "name": "stdout",
     "output_type": "stream",
     "text": [
      "Model: \"sequential_1\"\n",
      "_________________________________________________________________\n",
      " Layer (type)                Output Shape              Param #   \n",
      "=================================================================\n",
      " conv2d_3 (Conv2D)           (None, 28, 28, 6)         156       \n",
      "                                                                 \n",
      " max_pooling2d (MaxPooling2D  (None, 14, 14, 6)        0         \n",
      " )                                                               \n",
      "                                                                 \n",
      " conv2d_4 (Conv2D)           (None, 10, 10, 16)        2416      \n",
      "                                                                 \n",
      " max_pooling2d_1 (MaxPooling  (None, 5, 5, 16)         0         \n",
      " 2D)                                                             \n",
      "                                                                 \n",
      " conv2d_5 (Conv2D)           (None, 1, 1, 120)         48120     \n",
      "                                                                 \n",
      " flatten_1 (Flatten)         (None, 120)               0         \n",
      "                                                                 \n",
      " dense_2 (Dense)             (None, 84)                10164     \n",
      "                                                                 \n",
      " dense_3 (Dense)             (None, 10)                850       \n",
      "                                                                 \n",
      "=================================================================\n",
      "Total params: 61,706\n",
      "Trainable params: 61,706\n",
      "Non-trainable params: 0\n",
      "_________________________________________________________________\n"
     ]
    }
   ],
   "source": [
    "tweaked_model = build_tweaked_lenet5()"
   ]
  },
  {
   "cell_type": "code",
   "execution_count": 17,
   "id": "a6df7e0e",
   "metadata": {},
   "outputs": [
    {
     "name": "stdout",
     "output_type": "stream",
     "text": [
      "Epoch 1/1000\n",
      "469/469 [==============================] - 1s 2ms/step - loss: 0.3250 - accuracy: 0.9051 - val_loss: 0.0739 - val_accuracy: 0.9790\n",
      "Epoch 2/1000\n",
      "469/469 [==============================] - 1s 2ms/step - loss: 0.0796 - accuracy: 0.9754 - val_loss: 0.0553 - val_accuracy: 0.9839\n",
      "Epoch 3/1000\n",
      "469/469 [==============================] - 1s 2ms/step - loss: 0.0565 - accuracy: 0.9821 - val_loss: 0.0425 - val_accuracy: 0.9849\n",
      "Epoch 4/1000\n",
      "469/469 [==============================] - 1s 2ms/step - loss: 0.0473 - accuracy: 0.9852 - val_loss: 0.0354 - val_accuracy: 0.9886\n",
      "Epoch 5/1000\n",
      "469/469 [==============================] - 1s 2ms/step - loss: 0.0385 - accuracy: 0.9879 - val_loss: 0.0346 - val_accuracy: 0.9891\n",
      "Epoch 6/1000\n",
      "469/469 [==============================] - 1s 2ms/step - loss: 0.0338 - accuracy: 0.9893 - val_loss: 0.0291 - val_accuracy: 0.9912\n",
      "Epoch 7/1000\n",
      "469/469 [==============================] - 1s 2ms/step - loss: 0.0284 - accuracy: 0.9909 - val_loss: 0.0297 - val_accuracy: 0.9902\n",
      "Epoch 8/1000\n",
      "469/469 [==============================] - 1s 2ms/step - loss: 0.0238 - accuracy: 0.9923 - val_loss: 0.0292 - val_accuracy: 0.9901\n",
      "Epoch 9/1000\n",
      "469/469 [==============================] - 1s 2ms/step - loss: 0.0209 - accuracy: 0.9932 - val_loss: 0.0308 - val_accuracy: 0.9899\n",
      "Epoch 10/1000\n",
      "469/469 [==============================] - 1s 2ms/step - loss: 0.0193 - accuracy: 0.9934 - val_loss: 0.0288 - val_accuracy: 0.9896\n",
      "Epoch 11/1000\n",
      "469/469 [==============================] - 1s 2ms/step - loss: 0.0171 - accuracy: 0.9942 - val_loss: 0.0322 - val_accuracy: 0.9905\n",
      "Epoch 12/1000\n",
      "469/469 [==============================] - 1s 2ms/step - loss: 0.0148 - accuracy: 0.9948 - val_loss: 0.0348 - val_accuracy: 0.9900\n",
      "Epoch 13/1000\n",
      "469/469 [==============================] - 1s 2ms/step - loss: 0.0119 - accuracy: 0.9959 - val_loss: 0.0358 - val_accuracy: 0.9896\n",
      "Epoch 14/1000\n",
      "469/469 [==============================] - 1s 2ms/step - loss: 0.0132 - accuracy: 0.9955 - val_loss: 0.0448 - val_accuracy: 0.9868\n",
      "Epoch 15/1000\n",
      "469/469 [==============================] - 1s 2ms/step - loss: 0.0099 - accuracy: 0.9966 - val_loss: 0.0301 - val_accuracy: 0.9910\n",
      "Epoch 16/1000\n",
      "469/469 [==============================] - 1s 2ms/step - loss: 0.0113 - accuracy: 0.9961 - val_loss: 0.0413 - val_accuracy: 0.9866\n",
      "Epoch 17/1000\n",
      "469/469 [==============================] - 1s 2ms/step - loss: 0.0111 - accuracy: 0.9960 - val_loss: 0.0322 - val_accuracy: 0.9906\n",
      "Epoch 18/1000\n",
      "469/469 [==============================] - 1s 2ms/step - loss: 0.0083 - accuracy: 0.9972 - val_loss: 0.0342 - val_accuracy: 0.9898\n",
      "Epoch 19/1000\n",
      "469/469 [==============================] - 1s 2ms/step - loss: 0.0059 - accuracy: 0.9979 - val_loss: 0.0421 - val_accuracy: 0.9901\n",
      "Epoch 20/1000\n",
      "469/469 [==============================] - 1s 2ms/step - loss: 0.0056 - accuracy: 0.9983 - val_loss: 0.0445 - val_accuracy: 0.9886\n",
      "Epoch 21/1000\n",
      "469/469 [==============================] - 1s 2ms/step - loss: 0.0093 - accuracy: 0.9967 - val_loss: 0.0370 - val_accuracy: 0.9914\n",
      "Epoch 22/1000\n",
      "469/469 [==============================] - 1s 2ms/step - loss: 0.0042 - accuracy: 0.9987 - val_loss: 0.0345 - val_accuracy: 0.9920\n",
      "Epoch 23/1000\n",
      "469/469 [==============================] - 1s 2ms/step - loss: 0.0060 - accuracy: 0.9980 - val_loss: 0.0424 - val_accuracy: 0.9889\n",
      "Epoch 24/1000\n",
      "469/469 [==============================] - 1s 2ms/step - loss: 0.0069 - accuracy: 0.9976 - val_loss: 0.0454 - val_accuracy: 0.9877\n",
      "Epoch 25/1000\n",
      "469/469 [==============================] - 1s 2ms/step - loss: 0.0066 - accuracy: 0.9977 - val_loss: 0.0409 - val_accuracy: 0.9895\n",
      "Epoch 26/1000\n",
      "469/469 [==============================] - 1s 2ms/step - loss: 0.0037 - accuracy: 0.9987 - val_loss: 0.0368 - val_accuracy: 0.9911\n",
      "Epoch 27/1000\n",
      "469/469 [==============================] - 1s 2ms/step - loss: 0.0039 - accuracy: 0.9987 - val_loss: 0.0430 - val_accuracy: 0.9900\n",
      "Epoch 28/1000\n",
      "469/469 [==============================] - 1s 2ms/step - loss: 0.0052 - accuracy: 0.9981 - val_loss: 0.0463 - val_accuracy: 0.9896\n",
      "Epoch 29/1000\n",
      "469/469 [==============================] - 1s 2ms/step - loss: 0.0072 - accuracy: 0.9978 - val_loss: 0.0513 - val_accuracy: 0.9896\n",
      "Epoch 30/1000\n",
      "469/469 [==============================] - 1s 2ms/step - loss: 0.0042 - accuracy: 0.9985 - val_loss: 0.0487 - val_accuracy: 0.9901\n",
      "Epoch 31/1000\n",
      "469/469 [==============================] - 1s 2ms/step - loss: 0.0022 - accuracy: 0.9992 - val_loss: 0.0401 - val_accuracy: 0.9908\n",
      "Epoch 32/1000\n",
      "469/469 [==============================] - 1s 2ms/step - loss: 0.0053 - accuracy: 0.9982 - val_loss: 0.0437 - val_accuracy: 0.9906\n",
      "Epoch 33/1000\n",
      "469/469 [==============================] - 1s 2ms/step - loss: 0.0042 - accuracy: 0.9986 - val_loss: 0.0478 - val_accuracy: 0.9912\n",
      "Epoch 34/1000\n",
      "469/469 [==============================] - 1s 2ms/step - loss: 0.0035 - accuracy: 0.9989 - val_loss: 0.0415 - val_accuracy: 0.9918\n",
      "Epoch 35/1000\n",
      "469/469 [==============================] - 1s 2ms/step - loss: 0.0030 - accuracy: 0.9991 - val_loss: 0.0454 - val_accuracy: 0.9915\n",
      "Epoch 36/1000\n",
      "469/469 [==============================] - 1s 2ms/step - loss: 0.0051 - accuracy: 0.9983 - val_loss: 0.0430 - val_accuracy: 0.9906\n",
      "Epoch 37/1000\n",
      "469/469 [==============================] - 1s 2ms/step - loss: 0.0045 - accuracy: 0.9984 - val_loss: 0.0439 - val_accuracy: 0.9906\n",
      "Epoch 38/1000\n",
      "469/469 [==============================] - 1s 2ms/step - loss: 0.0043 - accuracy: 0.9984 - val_loss: 0.0423 - val_accuracy: 0.9901\n",
      "Epoch 39/1000\n",
      "469/469 [==============================] - 1s 2ms/step - loss: 0.0017 - accuracy: 0.9994 - val_loss: 0.0489 - val_accuracy: 0.9908\n",
      "Epoch 40/1000\n",
      "469/469 [==============================] - 1s 2ms/step - loss: 0.0031 - accuracy: 0.9992 - val_loss: 0.0510 - val_accuracy: 0.9902\n",
      "Epoch 41/1000\n",
      "469/469 [==============================] - 1s 2ms/step - loss: 0.0052 - accuracy: 0.9983 - val_loss: 0.0479 - val_accuracy: 0.9904\n",
      "Epoch 42/1000\n",
      "469/469 [==============================] - 1s 2ms/step - loss: 0.0024 - accuracy: 0.9992 - val_loss: 0.0458 - val_accuracy: 0.9912\n",
      "Epoch 43/1000\n",
      "469/469 [==============================] - 1s 2ms/step - loss: 0.0024 - accuracy: 0.9993 - val_loss: 0.0466 - val_accuracy: 0.9911\n",
      "Epoch 44/1000\n",
      "469/469 [==============================] - 1s 2ms/step - loss: 0.0048 - accuracy: 0.9986 - val_loss: 0.0513 - val_accuracy: 0.9902\n",
      "Epoch 45/1000\n",
      "469/469 [==============================] - 1s 2ms/step - loss: 0.0023 - accuracy: 0.9994 - val_loss: 0.0467 - val_accuracy: 0.9911\n",
      "Epoch 46/1000\n",
      "469/469 [==============================] - 1s 2ms/step - loss: 0.0027 - accuracy: 0.9992 - val_loss: 0.0486 - val_accuracy: 0.9910\n",
      "Epoch 47/1000\n",
      "469/469 [==============================] - 1s 2ms/step - loss: 0.0032 - accuracy: 0.9990 - val_loss: 0.0575 - val_accuracy: 0.9893\n",
      "Epoch 48/1000\n",
      "469/469 [==============================] - 1s 2ms/step - loss: 0.0043 - accuracy: 0.9985 - val_loss: 0.0508 - val_accuracy: 0.9915\n",
      "Epoch 49/1000\n",
      "469/469 [==============================] - 1s 2ms/step - loss: 0.0028 - accuracy: 0.9992 - val_loss: 0.0626 - val_accuracy: 0.9895\n",
      "Epoch 50/1000\n",
      "469/469 [==============================] - 1s 2ms/step - loss: 0.0027 - accuracy: 0.9991 - val_loss: 0.0518 - val_accuracy: 0.9911\n",
      "Epoch 51/1000\n",
      "469/469 [==============================] - 1s 2ms/step - loss: 0.0022 - accuracy: 0.9994 - val_loss: 0.0507 - val_accuracy: 0.9915\n",
      "Epoch 52/1000\n",
      "469/469 [==============================] - 1s 2ms/step - loss: 0.0025 - accuracy: 0.9992 - val_loss: 0.0629 - val_accuracy: 0.9884\n",
      "Epoch 53/1000\n",
      "469/469 [==============================] - 1s 2ms/step - loss: 0.0037 - accuracy: 0.9990 - val_loss: 0.0546 - val_accuracy: 0.9904\n",
      "Epoch 54/1000\n",
      "469/469 [==============================] - 1s 2ms/step - loss: 0.0015 - accuracy: 0.9995 - val_loss: 0.0817 - val_accuracy: 0.9869\n",
      "Epoch 55/1000\n",
      "469/469 [==============================] - 1s 2ms/step - loss: 0.0036 - accuracy: 0.9988 - val_loss: 0.0625 - val_accuracy: 0.9904\n",
      "Epoch 56/1000\n",
      "467/469 [============================>.] - ETA: 0s - loss: 8.1389e-04 - accuracy: 0.9997Restoring model weights from the end of the best epoch: 6.\n",
      "469/469 [==============================] - 1s 2ms/step - loss: 8.1105e-04 - accuracy: 0.9997 - val_loss: 0.0615 - val_accuracy: 0.9912\n"
     ]
    },
    {
     "name": "stdout",
     "output_type": "stream",
     "text": [
      "Epoch 56: early stopping\n"
     ]
    },
    {
     "data": {
      "text/plain": [
       "<keras.callbacks.History at 0x2512ab189a0>"
      ]
     },
     "execution_count": 17,
     "metadata": {},
     "output_type": "execute_result"
    }
   ],
   "source": [
    "tweaked_model.fit(train, epochs=epochs, validation_data=validate, callbacks=[earlystop])"
   ]
  },
  {
   "cell_type": "code",
   "execution_count": 18,
   "id": "24d6c1bc",
   "metadata": {},
   "outputs": [
    {
     "name": "stdout",
     "output_type": "stream",
     "text": [
      "Final accuracy score on test data: 0.9885\n"
     ]
    }
   ],
   "source": [
    "print(f\"Final accuracy score on test data: {accuracy_score([y for x, y in test.unbatch()], np.argmax(tweaked_model.predict(test), axis=1))}\")"
   ]
  },
  {
   "cell_type": "code",
   "execution_count": 19,
   "id": "f4a192f7",
   "metadata": {},
   "outputs": [
    {
     "name": "stdout",
     "output_type": "stream",
     "text": [
      "Epoch 1/1000\n",
      "469/469 [==============================] - 1s 2ms/step - loss: 0.5019 - accuracy: 0.8203 - val_loss: 0.3861 - val_accuracy: 0.8646\n",
      "Epoch 2/1000\n",
      "469/469 [==============================] - 1s 2ms/step - loss: 0.3353 - accuracy: 0.8772 - val_loss: 0.3454 - val_accuracy: 0.8739\n",
      "Epoch 3/1000\n",
      "469/469 [==============================] - 1s 2ms/step - loss: 0.2993 - accuracy: 0.8902 - val_loss: 0.3205 - val_accuracy: 0.8871\n",
      "Epoch 4/1000\n",
      "469/469 [==============================] - 1s 2ms/step - loss: 0.2744 - accuracy: 0.8989 - val_loss: 0.3087 - val_accuracy: 0.8882\n",
      "Epoch 5/1000\n",
      "469/469 [==============================] - 1s 2ms/step - loss: 0.2563 - accuracy: 0.9058 - val_loss: 0.3045 - val_accuracy: 0.8878\n",
      "Epoch 6/1000\n",
      "469/469 [==============================] - 1s 2ms/step - loss: 0.2426 - accuracy: 0.9089 - val_loss: 0.3095 - val_accuracy: 0.8888\n",
      "Epoch 7/1000\n",
      "469/469 [==============================] - 1s 2ms/step - loss: 0.2285 - accuracy: 0.9161 - val_loss: 0.2923 - val_accuracy: 0.8953\n",
      "Epoch 8/1000\n",
      "469/469 [==============================] - 1s 2ms/step - loss: 0.2203 - accuracy: 0.9183 - val_loss: 0.2904 - val_accuracy: 0.8960\n",
      "Epoch 9/1000\n",
      "469/469 [==============================] - 1s 2ms/step - loss: 0.2081 - accuracy: 0.9235 - val_loss: 0.2827 - val_accuracy: 0.9004\n",
      "Epoch 10/1000\n",
      "469/469 [==============================] - 1s 2ms/step - loss: 0.1976 - accuracy: 0.9262 - val_loss: 0.2800 - val_accuracy: 0.9015\n",
      "Epoch 11/1000\n",
      "469/469 [==============================] - 1s 2ms/step - loss: 0.1886 - accuracy: 0.9300 - val_loss: 0.2887 - val_accuracy: 0.9036\n",
      "Epoch 12/1000\n",
      "469/469 [==============================] - 1s 2ms/step - loss: 0.1787 - accuracy: 0.9338 - val_loss: 0.2964 - val_accuracy: 0.8982\n",
      "Epoch 13/1000\n",
      "469/469 [==============================] - 1s 2ms/step - loss: 0.1702 - accuracy: 0.9367 - val_loss: 0.3058 - val_accuracy: 0.8995\n",
      "Epoch 14/1000\n",
      "469/469 [==============================] - 1s 2ms/step - loss: 0.1648 - accuracy: 0.9381 - val_loss: 0.3088 - val_accuracy: 0.8954\n",
      "Epoch 15/1000\n",
      "469/469 [==============================] - 1s 2ms/step - loss: 0.1565 - accuracy: 0.9419 - val_loss: 0.3096 - val_accuracy: 0.8967\n",
      "Epoch 16/1000\n",
      "469/469 [==============================] - 1s 2ms/step - loss: 0.1496 - accuracy: 0.9442 - val_loss: 0.3174 - val_accuracy: 0.8991\n",
      "Epoch 17/1000\n",
      "469/469 [==============================] - 1s 2ms/step - loss: 0.1418 - accuracy: 0.9474 - val_loss: 0.3255 - val_accuracy: 0.8946\n",
      "Epoch 18/1000\n",
      "469/469 [==============================] - 1s 2ms/step - loss: 0.1377 - accuracy: 0.9491 - val_loss: 0.3155 - val_accuracy: 0.9006\n",
      "Epoch 19/1000\n",
      "469/469 [==============================] - 1s 2ms/step - loss: 0.1314 - accuracy: 0.9514 - val_loss: 0.3232 - val_accuracy: 0.8984\n",
      "Epoch 20/1000\n",
      "469/469 [==============================] - 1s 2ms/step - loss: 0.1228 - accuracy: 0.9553 - val_loss: 0.3489 - val_accuracy: 0.9006\n",
      "Epoch 21/1000\n",
      "469/469 [==============================] - 1s 2ms/step - loss: 0.1203 - accuracy: 0.9548 - val_loss: 0.3686 - val_accuracy: 0.8945\n",
      "Epoch 22/1000\n",
      "469/469 [==============================] - 1s 2ms/step - loss: 0.1137 - accuracy: 0.9583 - val_loss: 0.3487 - val_accuracy: 0.9032\n",
      "Epoch 23/1000\n",
      "469/469 [==============================] - 1s 2ms/step - loss: 0.1069 - accuracy: 0.9610 - val_loss: 0.3635 - val_accuracy: 0.8988\n",
      "Epoch 24/1000\n",
      "469/469 [==============================] - 1s 2ms/step - loss: 0.1025 - accuracy: 0.9617 - val_loss: 0.3894 - val_accuracy: 0.8994\n",
      "Epoch 25/1000\n",
      "469/469 [==============================] - 1s 2ms/step - loss: 0.0998 - accuracy: 0.9623 - val_loss: 0.3781 - val_accuracy: 0.8982\n",
      "Epoch 26/1000\n",
      "469/469 [==============================] - 1s 2ms/step - loss: 0.0945 - accuracy: 0.9653 - val_loss: 0.3926 - val_accuracy: 0.9024\n",
      "Epoch 27/1000\n",
      "469/469 [==============================] - 1s 2ms/step - loss: 0.0900 - accuracy: 0.9658 - val_loss: 0.4086 - val_accuracy: 0.8984\n",
      "Epoch 28/1000\n",
      "469/469 [==============================] - 1s 2ms/step - loss: 0.0848 - accuracy: 0.9676 - val_loss: 0.4424 - val_accuracy: 0.9006\n",
      "Epoch 29/1000\n",
      "469/469 [==============================] - 1s 2ms/step - loss: 0.0811 - accuracy: 0.9697 - val_loss: 0.4446 - val_accuracy: 0.9016\n",
      "Epoch 30/1000\n",
      "469/469 [==============================] - 1s 2ms/step - loss: 0.0762 - accuracy: 0.9709 - val_loss: 0.4579 - val_accuracy: 0.8990\n",
      "Epoch 31/1000\n",
      "469/469 [==============================] - 1s 2ms/step - loss: 0.0711 - accuracy: 0.9735 - val_loss: 0.4829 - val_accuracy: 0.8971\n",
      "Epoch 32/1000\n",
      "469/469 [==============================] - 1s 2ms/step - loss: 0.0714 - accuracy: 0.9731 - val_loss: 0.4924 - val_accuracy: 0.8986\n",
      "Epoch 33/1000\n",
      "469/469 [==============================] - 1s 2ms/step - loss: 0.0690 - accuracy: 0.9744 - val_loss: 0.5014 - val_accuracy: 0.8992\n",
      "Epoch 34/1000\n",
      "469/469 [==============================] - 1s 2ms/step - loss: 0.0662 - accuracy: 0.9756 - val_loss: 0.4962 - val_accuracy: 0.9004\n",
      "Epoch 35/1000\n",
      "469/469 [==============================] - 1s 2ms/step - loss: 0.0608 - accuracy: 0.9771 - val_loss: 0.5362 - val_accuracy: 0.8947\n",
      "Epoch 36/1000\n",
      "469/469 [==============================] - 1s 2ms/step - loss: 0.0597 - accuracy: 0.9786 - val_loss: 0.5206 - val_accuracy: 0.8997\n",
      "Epoch 37/1000\n",
      "469/469 [==============================] - 1s 2ms/step - loss: 0.0590 - accuracy: 0.9783 - val_loss: 0.5395 - val_accuracy: 0.8975\n",
      "Epoch 38/1000\n",
      "469/469 [==============================] - 1s 2ms/step - loss: 0.0548 - accuracy: 0.9800 - val_loss: 0.5623 - val_accuracy: 0.8970\n",
      "Epoch 39/1000\n",
      "469/469 [==============================] - 1s 2ms/step - loss: 0.0486 - accuracy: 0.9827 - val_loss: 0.5751 - val_accuracy: 0.8995\n",
      "Epoch 40/1000\n",
      "469/469 [==============================] - 1s 2ms/step - loss: 0.0499 - accuracy: 0.9815 - val_loss: 0.6016 - val_accuracy: 0.8949\n",
      "Epoch 41/1000\n",
      "469/469 [==============================] - 1s 2ms/step - loss: 0.0472 - accuracy: 0.9827 - val_loss: 0.6478 - val_accuracy: 0.8905\n",
      "Epoch 42/1000\n",
      "469/469 [==============================] - 1s 2ms/step - loss: 0.0502 - accuracy: 0.9805 - val_loss: 0.5993 - val_accuracy: 0.8976\n",
      "Epoch 43/1000\n",
      "469/469 [==============================] - 1s 2ms/step - loss: 0.0441 - accuracy: 0.9837 - val_loss: 0.6289 - val_accuracy: 0.8974\n",
      "Epoch 44/1000\n",
      "469/469 [==============================] - 1s 2ms/step - loss: 0.0403 - accuracy: 0.9858 - val_loss: 0.6440 - val_accuracy: 0.8988\n",
      "Epoch 45/1000\n",
      "469/469 [==============================] - 1s 2ms/step - loss: 0.0398 - accuracy: 0.9853 - val_loss: 0.7008 - val_accuracy: 0.8963\n",
      "Epoch 46/1000\n",
      "469/469 [==============================] - 1s 2ms/step - loss: 0.0446 - accuracy: 0.9834 - val_loss: 0.6498 - val_accuracy: 0.8951\n",
      "Epoch 47/1000\n",
      "469/469 [==============================] - 1s 2ms/step - loss: 0.0375 - accuracy: 0.9858 - val_loss: 0.6994 - val_accuracy: 0.8975\n",
      "Epoch 48/1000\n",
      "469/469 [==============================] - 1s 2ms/step - loss: 0.0386 - accuracy: 0.9858 - val_loss: 0.6915 - val_accuracy: 0.8953\n",
      "Epoch 49/1000\n",
      "469/469 [==============================] - 1s 2ms/step - loss: 0.0449 - accuracy: 0.9832 - val_loss: 0.6878 - val_accuracy: 0.8963\n",
      "Epoch 50/1000\n",
      "469/469 [==============================] - 1s 2ms/step - loss: 0.0332 - accuracy: 0.9882 - val_loss: 0.7291 - val_accuracy: 0.8925\n",
      "Epoch 51/1000\n",
      "469/469 [==============================] - 1s 2ms/step - loss: 0.0348 - accuracy: 0.9875 - val_loss: 0.7040 - val_accuracy: 0.8954\n",
      "Epoch 52/1000\n",
      "469/469 [==============================] - 1s 2ms/step - loss: 0.0347 - accuracy: 0.9875 - val_loss: 0.7546 - val_accuracy: 0.8946\n",
      "Epoch 53/1000\n",
      "469/469 [==============================] - 1s 2ms/step - loss: 0.0370 - accuracy: 0.9866 - val_loss: 0.7373 - val_accuracy: 0.8949\n",
      "Epoch 54/1000\n",
      "469/469 [==============================] - 1s 2ms/step - loss: 0.0354 - accuracy: 0.9876 - val_loss: 0.7393 - val_accuracy: 0.8974\n",
      "Epoch 55/1000\n",
      "469/469 [==============================] - 1s 2ms/step - loss: 0.0287 - accuracy: 0.9891 - val_loss: 0.7529 - val_accuracy: 0.8936\n",
      "Epoch 56/1000\n",
      "469/469 [==============================] - 1s 2ms/step - loss: 0.0242 - accuracy: 0.9915 - val_loss: 0.7690 - val_accuracy: 0.8919\n",
      "Epoch 57/1000\n"
     ]
    },
    {
     "name": "stdout",
     "output_type": "stream",
     "text": [
      "469/469 [==============================] - 1s 2ms/step - loss: 0.0375 - accuracy: 0.9860 - val_loss: 0.7840 - val_accuracy: 0.8947\n",
      "Epoch 58/1000\n",
      "469/469 [==============================] - 1s 2ms/step - loss: 0.0344 - accuracy: 0.9873 - val_loss: 0.8078 - val_accuracy: 0.8936\n",
      "Epoch 59/1000\n",
      "469/469 [==============================] - 1s 2ms/step - loss: 0.0234 - accuracy: 0.9917 - val_loss: 0.8488 - val_accuracy: 0.8972\n",
      "Epoch 60/1000\n",
      "460/469 [============================>.] - ETA: 0s - loss: 0.0227 - accuracy: 0.9923Restoring model weights from the end of the best epoch: 10.\n",
      "469/469 [==============================] - 1s 2ms/step - loss: 0.0229 - accuracy: 0.9922 - val_loss: 0.8628 - val_accuracy: 0.8949\n",
      "Epoch 60: early stopping\n"
     ]
    },
    {
     "data": {
      "text/plain": [
       "<keras.callbacks.History at 0x25125253d90>"
      ]
     },
     "execution_count": 19,
     "metadata": {},
     "output_type": "execute_result"
    }
   ],
   "source": [
    "tweaked_model.fit(train_fashion, epochs=epochs, validation_data=validate_fashion, callbacks=[earlystop])"
   ]
  },
  {
   "cell_type": "code",
   "execution_count": 20,
   "id": "fdf2e018",
   "metadata": {},
   "outputs": [
    {
     "name": "stdout",
     "output_type": "stream",
     "text": [
      "Final accuracy score on Fashion data: 0.901\n"
     ]
    }
   ],
   "source": [
    "print(f\"Final accuracy score on Fashion data: {accuracy_score([y for x, y in test_fashion.unbatch()], np.argmax(tweaked_model.predict(test_fashion), axis=1))}\")"
   ]
  }
 ],
 "metadata": {
  "kernelspec": {
   "display_name": "Python 3 (ipykernel)",
   "language": "python",
   "name": "python3"
  },
  "language_info": {
   "codemirror_mode": {
    "name": "ipython",
    "version": 3
   },
   "file_extension": ".py",
   "mimetype": "text/x-python",
   "name": "python",
   "nbconvert_exporter": "python",
   "pygments_lexer": "ipython3",
   "version": "3.9.7"
  }
 },
 "nbformat": 4,
 "nbformat_minor": 5
}
